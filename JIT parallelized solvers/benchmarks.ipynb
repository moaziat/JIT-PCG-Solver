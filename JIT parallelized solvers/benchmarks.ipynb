{
 "cells": [
  {
   "cell_type": "code",
   "execution_count": 1,
   "metadata": {},
   "outputs": [],
   "source": [
    "from conjugate_gradient import cg\n",
    "import numpy as np\n",
    "from scipy import sparse\n",
    "from poisson2D_parallel import pcg_poisson2D\n",
    "import time\n",
    "from cg import pcg"
   ]
  },
  {
   "cell_type": "code",
   "execution_count": 2,
   "metadata": {},
   "outputs": [],
   "source": [
    "A = sparse.random(100, 100, density=1, format=\"csr\")\n",
    "b = np.random.rand(100)\n",
    "M = np.ones(A.shape[0])\n",
    "ny, nx = 100, 100"
   ]
  },
  {
   "cell_type": "code",
   "execution_count": 3,
   "metadata": {},
   "outputs": [
    {
     "name": "stdout",
     "output_type": "stream",
     "text": [
      "4.668308258056641\n"
     ]
    }
   ],
   "source": [
    "start_time = time.time()\n",
    "cg(A.data, A.indices, A.indptr, b, M, ny, nx)\n",
    "solve_time = time.time() - start_time\n",
    "print(solve_time)"
   ]
  },
  {
   "cell_type": "code",
   "execution_count": 4,
   "metadata": {},
   "outputs": [
    {
     "name": "stderr",
     "output_type": "stream",
     "text": [
      "/home/mo/Desktop/PCG-GNN/JIT parallelized solvers/cg.py:77: RuntimeWarning: divide by zero encountered in scalar divide\n",
      "  alpha = rz / dot_product(p, Ap)\n",
      "/home/mo/Desktop/PCG-GNN/JIT parallelized solvers/cg.py:97: RuntimeWarning: invalid value encountered in add\n",
      "  p = z + beta * p\n"
     ]
    }
   ],
   "source": [
    "pcg(A, b, M)"
   ]
  },
  {
   "cell_type": "code",
   "execution_count": null,
   "metadata": {},
   "outputs": [],
   "source": []
  }
 ],
 "metadata": {
  "kernelspec": {
   "display_name": "base",
   "language": "python",
   "name": "python3"
  },
  "language_info": {
   "codemirror_mode": {
    "name": "ipython",
    "version": 3
   },
   "file_extension": ".py",
   "mimetype": "text/x-python",
   "name": "python",
   "nbconvert_exporter": "python",
   "pygments_lexer": "ipython3",
   "version": "3.12.2"
  }
 },
 "nbformat": 4,
 "nbformat_minor": 2
}
