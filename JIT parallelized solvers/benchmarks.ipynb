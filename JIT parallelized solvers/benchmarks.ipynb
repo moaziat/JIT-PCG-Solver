{
 "cells": [
  {
   "cell_type": "code",
   "execution_count": 1,
   "metadata": {},
   "outputs": [],
   "source": [
    "from conjugate_gradient import cg\n",
    "from preconditioners import jacobi_preconditioner\n",
    "import numpy as np\n",
    "from scipy import sparse\n",
    "from poisson2D_parallel import pcg_poisson2D\n",
    "import time"
   ]
  },
  {
   "cell_type": "code",
   "execution_count": null,
   "metadata": {},
   "outputs": [],
   "source": [
    "A = sparse.random(1000, 1000, density=1, format=\"csr\")\n",
    "b = np.random.rand(100)\n",
    "M = np.ones(A.shape[0])\n",
    "ny, nx = 100, 100"
   ]
  },
  {
   "cell_type": "code",
   "execution_count": 4,
   "metadata": {},
   "outputs": [
    {
     "name": "stdout",
     "output_type": "stream",
     "text": [
      "0.010958433151245117\n"
     ]
    }
   ],
   "source": [
    "start_time = time.time()\n",
    "cg(A.data, A.indices, A.indptr, b, M, ny, nx)\n",
    "solve_time = time.time() - start_time\n",
    "print(solve_time)"
   ]
  },
  {
   "cell_type": "code",
   "execution_count": 5,
   "metadata": {},
   "outputs": [
    {
     "ename": "ValueError",
     "evalue": "Scalar operands are not allowed, use '*' instead",
     "output_type": "error",
     "traceback": [
      "\u001b[0;31m---------------------------------------------------------------------------\u001b[0m",
      "\u001b[0;31mValueError\u001b[0m                                Traceback (most recent call last)",
      "Cell \u001b[0;32mIn[5], line 1\u001b[0m\n\u001b[0;32m----> 1\u001b[0m pcg_poisson2D(A, b, M, ny, nx)\n",
      "File \u001b[0;32m~/Desktop/PCG-GNN/JIT parallelized solvers/poisson2D_parallel.py:87\u001b[0m, in \u001b[0;36mpcg_poisson2D\u001b[0;34m(A, b, M, ny, nx, max_iter, tol)\u001b[0m\n\u001b[1;32m     85\u001b[0m \u001b[38;5;28;01mfor\u001b[39;00m i \u001b[38;5;129;01min\u001b[39;00m \u001b[38;5;28mrange\u001b[39m(max_iter):\n\u001b[1;32m     86\u001b[0m     x \u001b[38;5;241m=\u001b[39m boundary_conditions(x, ny, nx)\n\u001b[0;32m---> 87\u001b[0m     Ap \u001b[38;5;241m=\u001b[39m A \u001b[38;5;241m@\u001b[39m p\n\u001b[1;32m     88\u001b[0m     alpha \u001b[38;5;241m=\u001b[39m rz \u001b[38;5;241m/\u001b[39m p\u001b[38;5;241m.\u001b[39mdot(Ap)\n\u001b[1;32m     90\u001b[0m     x \u001b[38;5;241m=\u001b[39m x \u001b[38;5;241m+\u001b[39m alpha \u001b[38;5;241m*\u001b[39m p\n",
      "File \u001b[0;32m~/anaconda3/lib/python3.12/site-packages/scipy/sparse/_base.py:693\u001b[0m, in \u001b[0;36m_spbase.__matmul__\u001b[0;34m(self, other)\u001b[0m\n\u001b[1;32m    691\u001b[0m \u001b[38;5;28;01mdef\u001b[39;00m \u001b[38;5;21m__matmul__\u001b[39m(\u001b[38;5;28mself\u001b[39m, other):\n\u001b[1;32m    692\u001b[0m     \u001b[38;5;28;01mif\u001b[39;00m isscalarlike(other):\n\u001b[0;32m--> 693\u001b[0m         \u001b[38;5;28;01mraise\u001b[39;00m \u001b[38;5;167;01mValueError\u001b[39;00m(\u001b[38;5;124m\"\u001b[39m\u001b[38;5;124mScalar operands are not allowed, \u001b[39m\u001b[38;5;124m\"\u001b[39m\n\u001b[1;32m    694\u001b[0m                          \u001b[38;5;124m\"\u001b[39m\u001b[38;5;124muse \u001b[39m\u001b[38;5;124m'\u001b[39m\u001b[38;5;124m*\u001b[39m\u001b[38;5;124m'\u001b[39m\u001b[38;5;124m instead\u001b[39m\u001b[38;5;124m\"\u001b[39m)\n\u001b[1;32m    695\u001b[0m     \u001b[38;5;28;01mreturn\u001b[39;00m \u001b[38;5;28mself\u001b[39m\u001b[38;5;241m.\u001b[39m_matmul_dispatch(other)\n",
      "\u001b[0;31mValueError\u001b[0m: Scalar operands are not allowed, use '*' instead"
     ]
    }
   ],
   "source": [
    "pcg_poisson2D(A, b, M, ny, nx)"
   ]
  },
  {
   "cell_type": "code",
   "execution_count": null,
   "metadata": {},
   "outputs": [],
   "source": []
  }
 ],
 "metadata": {
  "kernelspec": {
   "display_name": "base",
   "language": "python",
   "name": "python3"
  },
  "language_info": {
   "codemirror_mode": {
    "name": "ipython",
    "version": 3
   },
   "file_extension": ".py",
   "mimetype": "text/x-python",
   "name": "python",
   "nbconvert_exporter": "python",
   "pygments_lexer": "ipython3",
   "version": "3.12.2"
  }
 },
 "nbformat": 4,
 "nbformat_minor": 2
}
